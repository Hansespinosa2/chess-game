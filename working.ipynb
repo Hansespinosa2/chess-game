{
 "cells": [
  {
   "cell_type": "code",
   "execution_count": 1,
   "metadata": {},
   "outputs": [
    {
     "name": "stdout",
     "output_type": "stream",
     "text": [
      "[[\"T00\", \"T01\", \"T02\", \"T03\", \"T04\", \"T05\", \"T06\", \"T07\"],\n",
      " [\"pw0\", \"pw1\", \"pw2\", \"pw3\", \"pw4\", \"pw5\", \"pw6\", \"pw7\"],\n",
      " [\"T20\", \"T21\", \"T22\", \"T23\", \"T24\", \"T25\", \"T26\", \"T27\"],\n",
      " [\"T30\", \"T31\", \"T32\", \"T33\", \"T34\", \"T35\", \"T36\", \"T37\"],\n",
      " [\"T40\", \"T41\", \"T42\", \"T43\", \"T44\", \"T45\", \"T46\", \"T47\"],\n",
      " [\"T50\", \"T51\", \"T52\", \"T53\", \"T54\", "
     ]
    },
    {
     "name": "stdout",
     "output_type": "stream",
     "text": [
      "\"T55\", \"T56\", \"T57\"],\n",
      " [\"pb0\", \"pb1\", \"pb2\", \"pb3\", \"pb4\", \"pb5\", \"pb6\", \"pb7\"],\n",
      " [\"T70\", \"T71\", \"T72\", \"T73\", \"T74\", \"T75\", \"T76\", \"T77\"]]\n"
     ]
    },
    {
     "data": {
      "text/plain": [
       "[[\"T00\", \"T01\", \"T02\", \"T03\", \"T04\", \"T05\", \"T06\", \"T07\"], [\"pw0\", \"pw1\", \"pw2\", \"pw3\", \"pw4\", \"pw5\", \"pw6\", \"pw7\"], [\"T20\", \"T21\", \"T22\", \"T23\", \"T24\", \"T25\", \"T26\", \"T27\"], [\"T30\", \"T31\", \"T32\", \"T33\", \"T34\", \"T35\", \"T36\", \"T37\"], [\"T40\", \"T41\", \"T42\", \"T43\", \"T44\", \"T45\", \"T46\", \"T47\"], [\"T50\", \"T51\", \"T52\", \"T53\", \"T54\", \"T55\", \"T56\", \"T57\"], [\"pb0\", \"pb1\", \"pb2\", \"pb3\", \"pb4\", \"pb5\", \"pb6\", \"pb7\"], [\"T70\", \"T71\", \"T72\", \"T73\", \"T74\", \"T75\", \"T76\", \"T77\"]]"
      ]
     },
     "execution_count": 1,
     "metadata": {},
     "output_type": "execute_result"
    }
   ],
   "source": [
    "require_relative 'fichas.rb'\n",
    "require_relative 'board.rb'\n",
    "require_relative 'game.rb'\n",
    "a_board = Board.new\n",
    "a_pawn = Pawn.new(1,1,color='b',side='top')\n",
    "pawn2 = Pawn.new(1,2)\n",
    "a_game = Game.new(board=nil,player_color='b')\n",
    "a_game.display_game"
   ]
  },
  {
   "cell_type": "code",
   "execution_count": 2,
   "metadata": {},
   "outputs": [
    {
     "name": "stdout",
     "output_type": "stream",
     "text": [
      "true\n"
     ]
    },
    {
     "data": {
      "text/plain": [
       "#<Pawn:0x000001db8926a000 @row=0, @col=2, @color=\"w\", @side=\"bottom\", @id=0, @sym=\"pw0\">"
      ]
     },
     "execution_count": 2,
     "metadata": {},
     "output_type": "execute_result"
    }
   ],
   "source": [
    "\n",
    "pawn2.move_to(0,2)\n",
    "pawn2"
   ]
  },
  {
   "cell_type": "code",
   "execution_count": 26,
   "metadata": {},
   "outputs": [
    {
     "data": {
      "text/plain": [
       "[1, 1]"
      ]
     },
     "execution_count": 26,
     "metadata": {},
     "output_type": "execute_result"
    }
   ],
   "source": [
    "old_pos = ['[0,1]->[1,1]'.split('')[1].to_i, '[0,1]->[1,1]'.split('')[3].to_i]\n",
    "new_pos = ['[0,1]->[1,1]'.split('')[8].to_i, '[0,1]->[1,1]'.split('')[10].to_i]"
   ]
  },
  {
   "cell_type": "code",
   "execution_count": 3,
   "metadata": {},
   "outputs": [
    {
     "data": {
      "text/plain": [
       "\"h\""
      ]
     },
     "execution_count": 3,
     "metadata": {},
     "output_type": "execute_result"
    }
   ],
   "source": [
    "'hi'[0]"
   ]
  },
  {
   "cell_type": "code",
   "execution_count": 16,
   "metadata": {},
   "outputs": [
    {
     "name": "stdout",
     "output_type": "stream",
     "text": [
      "\"3,1\"\n",
      "\"3,2\"\n",
      "\"3,3\"\n"
     ]
    },
    {
     "data": {
      "text/plain": [
       "[3]"
      ]
     },
     "execution_count": 16,
     "metadata": {},
     "output_type": "execute_result"
    }
   ],
   "source": [
    "first = [3,1]\n",
    "second = [3,3]\n",
    "\n",
    "for row in (first[0]..second[0]).to_a\n",
    "  for col in (first[1]..second[1]).to_a\n",
    "    p \"#{row},#{col}\"\n",
    "    if !ficha_hash[row,col].nil? and ([row,col] != first and [row,col] != second) then\n",
    "      return false\n",
    "    end\n",
    "  end\n",
    "end"
   ]
  },
  {
   "cell_type": "code",
   "execution_count": 19,
   "metadata": {},
   "outputs": [
    {
     "ename": "ArgumentError",
     "evalue": "wrong number of arguments (given 2, expected 1)",
     "output_type": "error",
     "traceback": [
      "\u001b[31mArgumentError\u001b[0m: wrong number of arguments (given 2, expected 1)",
      "(irb):in `include?'",
      "(irb):in `<top (required)>'"
     ]
    }
   ],
   "source": []
  },
  {
   "cell_type": "code",
   "execution_count": null,
   "metadata": {},
   "outputs": [],
   "source": []
  }
 ],
 "metadata": {
  "kernelspec": {
   "display_name": "Ruby 3.2.2",
   "language": "ruby",
   "name": "ruby"
  },
  "language_info": {
   "file_extension": ".rb",
   "mimetype": "application/x-ruby",
   "name": "ruby",
   "version": "3.2.2"
  }
 },
 "nbformat": 4,
 "nbformat_minor": 2
}
