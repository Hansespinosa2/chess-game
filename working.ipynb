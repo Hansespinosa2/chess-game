{
 "cells": [
  {
   "cell_type": "code",
   "execution_count": 3,
   "metadata": {},
   "outputs": [
    {
     "name": "stdout",
     "output_type": "stream",
     "text": [
      "\n"
     ]
    },
    {
     "name": "stdout",
     "output_type": "stream",
     "text": [
      "[[\"rw\", \"hw\", \"bw\", \"qw\", \"kw\", \"bw\", \"hw\", \"rw\"],\n",
      " [\"pw\", \"pw\", \"pw\", \"pw\", \"pw\", \"pw\", \"pw\", \"pw\"],\n",
      " [\"--\", \"--\", \"--\", \"--\", \"--\", \"--\", \"--\", \"--\"],\n",
      " [\"--\", \"--\", \"--\", \"--\", \"--\", \"--\", \"--\", \"--\"],\n",
      " [\"--\", \"--\", \"--\", \"--\", \"--\", \"--\", \"--\", \"--\"],\n",
      " [\"--\", \"--\", \"--\", \"--\", \"--\", \"--\", \"--\", \"--\"],\n",
      " [\"pb\", \"pb\", \"pb\", \"pb\", \"pb\", \"pb\", \"pb\", \"pb\"],\n",
      " [\"rb\", \"hb\", \"bb\", \"qb\", \"kb\", \"bb\", \"hb\", \"rb\"]]\n",
      "\n"
     ]
    }
   ],
   "source": [
    "require_relative 'fichas.rb'\n",
    "require_relative 'board.rb'\n",
    "require_relative 'game.rb'\n",
    "a_board = Board.new\n",
    "a_pawn = Pawn.new(1,1,color='b',side='top')\n",
    "pawn2 = Pawn.new(1,2)\n",
    "a_game = Game.new(board=nil,player_color='b')\n",
    "a_game.display_game"
   ]
  },
  {
   "cell_type": "code",
   "execution_count": 4,
   "metadata": {},
   "outputs": [
    {
     "data": {
      "text/plain": [
       "[#<Pawn:0x00000140883d08c8 @row=6, @col=0, @color=\"b\", @side=\"bottom\", @sym=\"pb\">, #<Pawn:0x00000140883d0878 @row=6, @col=1, @color=\"b\", @side=\"bottom\", @sym=\"pb\">, #<Pawn:0x00000140883d0828 @row=6, @col=2, @color=\"b\", @side=\"bottom\", @sym=\"pb\">, #<Pawn:0x00000140883d07d8 @row=6, @col=3, @color=\"b\", @side=\"bottom\", @sym=\"pb\">, #<Pawn:0x00000140883d0788 @row=6, @col=4, @color=\"b\", @side=\"bottom\", @sym=\"pb\">, #<Pawn:0x00000140883d0738 @row=6, @col=5, @color=\"b\", @side=\"bottom\", @sym=\"pb\">, #<Pawn:0x00000140883d06e8 @row=6, @col=6, @color=\"b\", @side=\"bottom\", @sym=\"pb\">, #<Pawn:0x00000140883d0698 @row=6, @col=7, @color=\"b\", @side=\"bottom\", @sym=\"pb\">, #<Rook:0x00000140883d03c8 @row=7, @col=0, @color=\"b\", @side=\"bottom\", @sym=\"rb\">, #<Knight:0x00000140883d02d8 @row=7, @col=1, @color=\"b\", @side=\"bottom\", @sym=\"hb\">, #<Bishop:0x00000140883d0288 @row=7, @col=2, @color=\"b\", @side=\"bottom\", @sym=\"bb\">, #<Queen:0x00000140883d0238 @row=7, @col=3, @color=\"b\", @side=\"bottom\", @sym=\"qb\">, #<King:0x00000140883d0198 @row=7, @col=4, @color=\"b\", @side=\"bottom\", @sym=\"kb\">, #<Bishop:0x00000140883d0148 @row=7, @col=5, @color=\"b\", @side=\"bottom\", @sym=\"bb\">, #<Knight:0x00000140883d00f8 @row=7, @col=6, @color=\"b\", @side=\"bottom\", @sym=\"hb\">, #<Rook:0x00000140883d00a8 @row=7, @col=7, @color=\"b\", @side=\"bottom\", @sym=\"rb\">]"
      ]
     },
     "execution_count": 4,
     "metadata": {},
     "output_type": "execute_result"
    }
   ],
   "source": [
    "a_game.board.ficha_hash.values.map { |ficha| (!ficha.nil? and ficha.color=='b') ? ficha : nil }.compact\n",
    "\n"
   ]
  },
  {
   "cell_type": "code",
   "execution_count": 5,
   "metadata": {},
   "outputs": [
    {
     "data": {
      "text/plain": [
       "[1, 1]"
      ]
     },
     "execution_count": 5,
     "metadata": {},
     "output_type": "execute_result"
    }
   ],
   "source": [
    "old_pos = ['[0,1]->[1,1]'.split('')[1].to_i, '[0,1]->[1,1]'.split('')[3].to_i]\n",
    "new_pos = ['[0,1]->[1,1]'.split('')[8].to_i, '[0,1]->[1,1]'.split('')[10].to_i]"
   ]
  },
  {
   "cell_type": "code",
   "execution_count": 6,
   "metadata": {},
   "outputs": [
    {
     "data": {
      "text/plain": [
       "\"h\""
      ]
     },
     "execution_count": 6,
     "metadata": {},
     "output_type": "execute_result"
    }
   ],
   "source": [
    "'hi'[0]"
   ]
  },
  {
   "cell_type": "code",
   "execution_count": 18,
   "metadata": {},
   "outputs": [
    {
     "name": "stdout",
     "output_type": "stream",
     "text": [
      "\"3,1\"\n"
     ]
    },
    {
     "ename": "NameError",
     "evalue": "undefined local variable or method `ficha_hash' for #<Object:0x0000014088d969e8>",
     "output_type": "error",
     "traceback": [
      "\u001b[31mNameError\u001b[0m: undefined local variable or method `ficha_hash' for #<Object:0x0000014088d969e8>",
      "(irb):6:in `block (2 levels) in <top (required)>'",
      "(irb):4:in `each'",
      "(irb):4:in `block in <top (required)>'",
      "(irb):3:in `each'",
      "(irb):3:in `<top (required)>'"
     ]
    }
   ],
   "source": [
    "first = [3,1]\n",
    "second = [3,3]\n",
    "\n",
    "for row in (first[0]..second[0]).to_a\n",
    "  for col in (first[1]..second[1]).to_a\n",
    "    p \"#{row},#{col}\"\n",
    "    if !ficha_hash[row,col].nil? and ([row,col] != first and [row,col] != second) then\n",
    "      return false\n",
    "    end\n",
    "  end\n",
    "end"
   ]
  },
  {
   "cell_type": "code",
   "execution_count": 17,
   "metadata": {},
   "outputs": [
    {
     "name": "stdout",
     "output_type": "stream",
     "text": [
      "\"w\"\n",
      "#<Rook:0x00000140883d0648 @row=0, @col=0, @color=\"w\", @side=\"top\", @sym=\"rw\">\n",
      "#<Knight:0x00000140883d05f8 @row=0, @col=1, @color=\"w\", @side=\"top\", @sym=\"hw\">\n",
      "#<Bishop:0x00000140883d05a8 @row=0, @col=2, @color=\"w\", @side=\"top\", @sym=\"bw\">\n",
      "#<Queen:0x00000140883d0558 @row=0, @col=3, @color=\"w\", @side=\"top\", @sym=\"qw\">\n",
      "#<King:0x00000140883d0508 @row=0, @col=4, @color=\"w\", @side=\"top\", @sym=\"kw\">\n",
      "#<Bishop:0x00000140883d04b8 @row=0, @col=5, @color=\"w\", @side=\"top\", @sym=\"bw\">\n",
      "#<Knight:0x00000140883d0468 @row=0, @col=6, @color=\"w\", @side=\"top\", @sym=\"hw\">\n",
      "#<Rook:0x00000140883d0418 @row=0, @col=7, @color=\"w\", @side=\"top\", @sym=\"rw\">\n",
      "#<Pawn:0x00000140883d0b48 @row=1, @col=0, @color=\"w\", @side=\"top\", @sym=\"pw\">\n",
      "#<Pawn:0x00000140883d0af8 @row=1, @col=1, @color=\"w\", @side=\"top\", @sym=\"pw\">\n",
      "#<Pawn:0x00000140883d0aa8 @row=1, @col=2, @color=\"w\", @side=\"top\", @sym=\"pw\">\n",
      "#<Pawn:0x00000140883d0a58 @row=1, @col=3, @color=\"w\", @side=\"top\", @sym=\"pw\">\n",
      "#<Pawn:0x00000140883d0a08 @row=1, @col=4, @color=\"w\", @side=\"top\", @sym=\"pw\">\n",
      "#<Pawn:0x00000140883d09b8 @row=1, @col=5, @color=\"w\", @side=\"top\", @sym=\"pw\">\n",
      "#<Pawn:0x00000140883d0968 @row=1, @col=6, @color=\"w\", @side=\"top\", @sym=\"pw\">\n",
      "#<Pawn:0x00000140883d0918 @row=1, @col=7, @color=\"w\", @side=\"top\", @sym=\"pw\">\n"
     ]
    },
    {
     "data": {
      "text/plain": [
       "#<King:0x00000140883d0198 @row=7, @col=4, @color=\"b\", @side=\"bottom\", @sym=\"kb\">"
      ]
     },
     "execution_count": 17,
     "metadata": {},
     "output_type": "execute_result"
    }
   ],
   "source": [
    "color = 'b'\n",
    "\n",
    "opp_color = color == 'b' ? 'w': 'b'\n",
    "p opp_color\n",
    "my_king = a_game.board.ficha_hash.values.map { |ficha| (!ficha.nil? and ficha.sym=='k' + color) ? ficha : nil }.compact[0]\n",
    "opp_fichas = a_game.board.ficha_hash.values.map { |ficha| (!ficha.nil? and ficha.color==opp_color) ? ficha : nil }.compact\n",
    "for ficha in opp_fichas\n",
    "  if ficha.valid_move?(ficha.row,ficha.col,my_king.row,my_king.col) and a_game.board.can_eat?([ficha.row,ficha.col],[my_king.row,my_king.col])\n",
    "    return true\n",
    "  end\n",
    "  \n",
    "end\n",
    "return false\n",
    "my_king\n",
    "\n",
    "\n"
   ]
  },
  {
   "cell_type": "code",
   "execution_count": 20,
   "metadata": {},
   "outputs": [
    {
     "name": "stdout",
     "output_type": "stream",
     "text": [
      "\"1,1\"\n"
     ]
    },
    {
     "data": {
      "text/plain": [
       "[1]"
      ]
     },
     "execution_count": 20,
     "metadata": {},
     "output_type": "execute_result"
    }
   ],
   "source": [
    "for i in (1..1).to_a\n",
    "  for j in (1..1).to_a\n",
    "    p \"#{i},#{j}\"\n",
    "  end\n",
    "end"
   ]
  },
  {
   "cell_type": "code",
   "execution_count": 24,
   "metadata": {},
   "outputs": [
    {
     "ename": "ArgumentError",
     "evalue": "wrong number of arguments (given 0, expected 1..2)",
     "output_type": "error",
     "traceback": [
      "\u001b[31mArgumentError\u001b[0m: wrong number of arguments (given 0, expected 1..2)",
      "(irb):in `reduce'",
      "(irb):in `<top (required)>'"
     ]
    }
   ],
   "source": [
    "[2,0].minmax.reduce().to_a"
   ]
  },
  {
   "cell_type": "code",
   "execution_count": 25,
   "metadata": {},
   "outputs": [
    {
     "data": {
      "text/plain": [
       "1"
      ]
     },
     "execution_count": 25,
     "metadata": {},
     "output_type": "execute_result"
    }
   ],
   "source": [
    "-1.abs"
   ]
  },
  {
   "cell_type": "code",
   "execution_count": null,
   "metadata": {},
   "outputs": [],
   "source": []
  }
 ],
 "metadata": {
  "kernelspec": {
   "display_name": "Ruby 3.2.2",
   "language": "ruby",
   "name": "ruby"
  },
  "language_info": {
   "file_extension": ".rb",
   "mimetype": "application/x-ruby",
   "name": "ruby",
   "version": "3.2.2"
  }
 },
 "nbformat": 4,
 "nbformat_minor": 2
}
